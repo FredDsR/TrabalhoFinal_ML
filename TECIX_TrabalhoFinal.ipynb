{
  "nbformat": 4,
  "nbformat_minor": 0,
  "metadata": {
    "colab": {
      "name": "TECIX_TrabalhoFinal.ipynb",
      "provenance": [],
      "collapsed_sections": [],
      "authorship_tag": "ABX9TyOEbBC/8ALAE50XLlHbjeMh",
      "include_colab_link": true
    },
    "kernelspec": {
      "display_name": "Python 3",
      "name": "python3"
    },
    "language_info": {
      "name": "python"
    }
  },
  "cells": [
    {
      "cell_type": "markdown",
      "metadata": {
        "id": "view-in-github",
        "colab_type": "text"
      },
      "source": [
        "<a href=\"https://colab.research.google.com/github/FredDsR/TrabalhoFinal_ML/blob/main/TECIX_TrabalhoFinal.ipynb\" target=\"_parent\"><img src=\"https://colab.research.google.com/assets/colab-badge.svg\" alt=\"Open In Colab\"/></a>"
      ]
    },
    {
      "cell_type": "markdown",
      "metadata": {
        "id": "7Z_JE0wvvMjk"
      },
      "source": [
        "# Implementação de um classificador de tendência à pensamentos suicidas sobre dados da OMS\n",
        "\n",
        "---\n"
      ]
    },
    {
      "cell_type": "markdown",
      "metadata": {
        "id": "Mco9zzBGN6cd"
      },
      "source": [
        "## Introdução\n",
        "Neste notebook se encontra a implementação da etapa de transformação dos dados e a implementação de 3 (três) modelos de aprendizado de máquina supervisionado para predição de trendência ao pensamento suicida em jovens. Os modelos implementados foram *K-Nearest Neighbors (KNN)*, *Support-vector Machine (SVM)* e *Extreme Gradient Boosting (XGBoost)*.\n",
        "\n",
        "### Aquisição dos dados\n",
        "\n",
        "Os dados utilizados nesta implementação foram retirados do estudo Global School-Based Student Health Survey ralizado na Argentina em 2018. Maiores descrições e acesso aos dados estão disponíveis [aqui](https://extranet.who.int/ncdsmicrodata/index.php/catalog/866/study-description)."
      ]
    },
    {
      "cell_type": "markdown",
      "metadata": {
        "id": "YyshCc3Oz3y0"
      },
      "source": [
        "---\n",
        "\n",
        "### Download e atualização de libs"
      ]
    },
    {
      "cell_type": "code",
      "metadata": {
        "colab": {
          "base_uri": "https://localhost:8080/"
        },
        "id": "4tpCTMWzNZYC",
        "outputId": "c0c52fba-e805-4cee-faea-a02788370aa1"
      },
      "source": [
        "!wget -O /content/data.csv https://extranet.who.int/ncdsmicrodata/index.php/catalog/866/download/6149\n",
        "\n",
        "!pip install scikit-learn --upgrade\n",
        "!pip install xgboost --upgrade"
      ],
      "execution_count": null,
      "outputs": [
        {
          "output_type": "stream",
          "name": "stdout",
          "text": [
            "--2021-11-08 13:59:07--  https://extranet.who.int/ncdsmicrodata/index.php/catalog/866/download/6149\n",
            "Resolving extranet.who.int (extranet.who.int)... 158.232.12.136\n",
            "Connecting to extranet.who.int (extranet.who.int)|158.232.12.136|:443... connected.\n",
            "HTTP request sent, awaiting response... 200 OK\n",
            "Length: 14705501 (14M) [application/octet-stream]\n",
            "Saving to: ‘/content/data.csv’\n",
            "\n",
            "/content/data.csv   100%[===================>]  14.02M  3.68MB/s    in 3.8s    \n",
            "\n",
            "2021-11-08 13:59:12 (3.68 MB/s) - ‘/content/data.csv’ saved [14705501/14705501]\n",
            "\n",
            "Requirement already satisfied: scikit-learn in /usr/local/lib/python3.7/dist-packages (1.0.1)\n",
            "Requirement already satisfied: threadpoolctl>=2.0.0 in /usr/local/lib/python3.7/dist-packages (from scikit-learn) (3.0.0)\n",
            "Requirement already satisfied: numpy>=1.14.6 in /usr/local/lib/python3.7/dist-packages (from scikit-learn) (1.19.5)\n",
            "Requirement already satisfied: joblib>=0.11 in /usr/local/lib/python3.7/dist-packages (from scikit-learn) (1.0.1)\n",
            "Requirement already satisfied: scipy>=1.1.0 in /usr/local/lib/python3.7/dist-packages (from scikit-learn) (1.4.1)\n",
            "Requirement already satisfied: xgboost in /usr/local/lib/python3.7/dist-packages (0.90)\n",
            "Collecting xgboost\n",
            "  Using cached xgboost-1.5.0-py3-none-manylinux2014_x86_64.whl (173.5 MB)\n",
            "Requirement already satisfied: numpy in /usr/local/lib/python3.7/dist-packages (from xgboost) (1.19.5)\n",
            "Requirement already satisfied: scipy in /usr/local/lib/python3.7/dist-packages (from xgboost) (1.4.1)\n",
            "Installing collected packages: xgboost\n",
            "  Attempting uninstall: xgboost\n",
            "    Found existing installation: xgboost 0.90\n",
            "    Uninstalling xgboost-0.90:\n",
            "      Successfully uninstalled xgboost-0.90\n",
            "Successfully installed xgboost-1.5.0\n"
          ]
        }
      ]
    },
    {
      "cell_type": "markdown",
      "metadata": {
        "id": "TNhXZoJKzyA1"
      },
      "source": [
        "---\n",
        "\n",
        "### Bibliotecas e ferramentas utilizadas"
      ]
    },
    {
      "cell_type": "code",
      "metadata": {
        "id": "Hd7y84tKAF8W"
      },
      "source": [
        "import re\n",
        "import pandas as pd\n",
        "import numpy as np\n",
        "import matplotlib.pyplot as plt\n",
        "import seaborn as sns\n",
        "from sklearn.preprocessing import LabelBinarizer, StandardScaler\n",
        "from sklearn.impute import SimpleImputer\n",
        "from sklearn.decomposition import PCA\n",
        "from sklearn.model_selection import GridSearchCV, train_test_split\n",
        "from sklearn.metrics import f1_score\n",
        "from sklearn.ensemble import RandomForestClassifier\n",
        "from sklearn.neighbors import KNeighborsClassifier\n",
        "from sklearn.svm import SVC\n",
        "from xgboost import XGBClassifier"
      ],
      "execution_count": null,
      "outputs": []
    },
    {
      "cell_type": "markdown",
      "metadata": {
        "id": "ZSOeXpc70BCM"
      },
      "source": [
        "---\n",
        "\n",
        "### Leitura"
      ]
    },
    {
      "cell_type": "code",
      "metadata": {
        "colab": {
          "base_uri": "https://localhost:8080/",
          "height": 252
        },
        "id": "8WOYNzNdRFR7",
        "outputId": "1a2555b1-bf76-4adb-9e6e-fa85a8589e89"
      },
      "source": [
        "data_df = pd.read_csv('/content/data.csv')\n",
        "\n",
        "data_df.head()"
      ],
      "execution_count": null,
      "outputs": [
        {
          "output_type": "execute_result",
          "data": {
            "text/html": [
              "<div>\n",
              "<style scoped>\n",
              "    .dataframe tbody tr th:only-of-type {\n",
              "        vertical-align: middle;\n",
              "    }\n",
              "\n",
              "    .dataframe tbody tr th {\n",
              "        vertical-align: top;\n",
              "    }\n",
              "\n",
              "    .dataframe thead th {\n",
              "        text-align: right;\n",
              "    }\n",
              "</style>\n",
              "<table border=\"1\" class=\"dataframe\">\n",
              "  <thead>\n",
              "    <tr style=\"text-align: right;\">\n",
              "      <th></th>\n",
              "      <th>site</th>\n",
              "      <th>record</th>\n",
              "      <th>q1</th>\n",
              "      <th>q2</th>\n",
              "      <th>q3</th>\n",
              "      <th>q4</th>\n",
              "      <th>q5</th>\n",
              "      <th>q6</th>\n",
              "      <th>q10</th>\n",
              "      <th>q15</th>\n",
              "      <th>q16</th>\n",
              "      <th>q17</th>\n",
              "      <th>q18</th>\n",
              "      <th>q19</th>\n",
              "      <th>q22</th>\n",
              "      <th>q23</th>\n",
              "      <th>q24</th>\n",
              "      <th>q25</th>\n",
              "      <th>q26</th>\n",
              "      <th>q27</th>\n",
              "      <th>q28</th>\n",
              "      <th>q29</th>\n",
              "      <th>q30</th>\n",
              "      <th>q31</th>\n",
              "      <th>q32</th>\n",
              "      <th>q33</th>\n",
              "      <th>q34</th>\n",
              "      <th>q35</th>\n",
              "      <th>q36</th>\n",
              "      <th>q37</th>\n",
              "      <th>q38</th>\n",
              "      <th>q39</th>\n",
              "      <th>q40</th>\n",
              "      <th>q41</th>\n",
              "      <th>q42</th>\n",
              "      <th>q43</th>\n",
              "      <th>q44</th>\n",
              "      <th>q45</th>\n",
              "      <th>q46</th>\n",
              "      <th>q47</th>\n",
              "      <th>...</th>\n",
              "      <th>qn42</th>\n",
              "      <th>qn43</th>\n",
              "      <th>qn44</th>\n",
              "      <th>qn45</th>\n",
              "      <th>qn46</th>\n",
              "      <th>qn47</th>\n",
              "      <th>qn48</th>\n",
              "      <th>qn49</th>\n",
              "      <th>qn50</th>\n",
              "      <th>qn51</th>\n",
              "      <th>qn52</th>\n",
              "      <th>qn53</th>\n",
              "      <th>qn54</th>\n",
              "      <th>qn55</th>\n",
              "      <th>qn56</th>\n",
              "      <th>qn57</th>\n",
              "      <th>qn58</th>\n",
              "      <th>qn61</th>\n",
              "      <th>qn62</th>\n",
              "      <th>qn63</th>\n",
              "      <th>qn66</th>\n",
              "      <th>qn67</th>\n",
              "      <th>qn68</th>\n",
              "      <th>qnunwtg</th>\n",
              "      <th>qnowtg</th>\n",
              "      <th>qnobeseg</th>\n",
              "      <th>qnff1g</th>\n",
              "      <th>qnff2g</th>\n",
              "      <th>qnff3g</th>\n",
              "      <th>qntob2g</th>\n",
              "      <th>qnnotb2g</th>\n",
              "      <th>qnbcanyg</th>\n",
              "      <th>qnc1g</th>\n",
              "      <th>qnpa5g</th>\n",
              "      <th>qnpa7g</th>\n",
              "      <th>qnpe3g</th>\n",
              "      <th>qnpe5g</th>\n",
              "      <th>weight</th>\n",
              "      <th>stratum</th>\n",
              "      <th>psu</th>\n",
              "    </tr>\n",
              "  </thead>\n",
              "  <tbody>\n",
              "    <tr>\n",
              "      <th>0</th>\n",
              "      <td>AG</td>\n",
              "      <td>1</td>\n",
              "      <td>3.0</td>\n",
              "      <td>2.0</td>\n",
              "      <td>2.0</td>\n",
              "      <td>NaN</td>\n",
              "      <td>NaN</td>\n",
              "      <td>2.0</td>\n",
              "      <td>1.0</td>\n",
              "      <td>1.0</td>\n",
              "      <td>1.0</td>\n",
              "      <td>1.0</td>\n",
              "      <td>1.0</td>\n",
              "      <td>NaN</td>\n",
              "      <td>5.0</td>\n",
              "      <td>5.0</td>\n",
              "      <td>1.0</td>\n",
              "      <td>2.0</td>\n",
              "      <td>1.0</td>\n",
              "      <td>3.0</td>\n",
              "      <td>2.0</td>\n",
              "      <td>7.0</td>\n",
              "      <td>NaN</td>\n",
              "      <td>4.0</td>\n",
              "      <td>5.0</td>\n",
              "      <td>2.0</td>\n",
              "      <td>2.0</td>\n",
              "      <td>7.0</td>\n",
              "      <td>7.0</td>\n",
              "      <td>3.0</td>\n",
              "      <td>1.0</td>\n",
              "      <td>4.0</td>\n",
              "      <td>1.0</td>\n",
              "      <td>1.0</td>\n",
              "      <td>1.0</td>\n",
              "      <td>1.0</td>\n",
              "      <td>1.0</td>\n",
              "      <td>2.0</td>\n",
              "      <td>7.0</td>\n",
              "      <td>3.0</td>\n",
              "      <td>...</td>\n",
              "      <td>2.0</td>\n",
              "      <td>2.0</td>\n",
              "      <td>1.0</td>\n",
              "      <td>1.0</td>\n",
              "      <td>1.0</td>\n",
              "      <td>2.0</td>\n",
              "      <td>2.0</td>\n",
              "      <td>2.0</td>\n",
              "      <td>2.0</td>\n",
              "      <td>2.0</td>\n",
              "      <td>1.0</td>\n",
              "      <td>1.0</td>\n",
              "      <td>2.0</td>\n",
              "      <td>2.0</td>\n",
              "      <td>1.0</td>\n",
              "      <td>NaN</td>\n",
              "      <td>NaN</td>\n",
              "      <td>2.0</td>\n",
              "      <td>2.0</td>\n",
              "      <td>1.0</td>\n",
              "      <td>1.0</td>\n",
              "      <td>1.0</td>\n",
              "      <td>NaN</td>\n",
              "      <td>NaN</td>\n",
              "      <td>NaN</td>\n",
              "      <td>NaN</td>\n",
              "      <td>2.0</td>\n",
              "      <td>2.0</td>\n",
              "      <td>2.0</td>\n",
              "      <td>1.0</td>\n",
              "      <td>NaN</td>\n",
              "      <td>NaN</td>\n",
              "      <td>NaN</td>\n",
              "      <td>1.0</td>\n",
              "      <td>1.0</td>\n",
              "      <td>2.0</td>\n",
              "      <td>2.0</td>\n",
              "      <td>457.0940</td>\n",
              "      <td>201801010</td>\n",
              "      <td>19</td>\n",
              "    </tr>\n",
              "    <tr>\n",
              "      <th>1</th>\n",
              "      <td>AG</td>\n",
              "      <td>2</td>\n",
              "      <td>3.0</td>\n",
              "      <td>2.0</td>\n",
              "      <td>2.0</td>\n",
              "      <td>NaN</td>\n",
              "      <td>NaN</td>\n",
              "      <td>1.0</td>\n",
              "      <td>1.0</td>\n",
              "      <td>1.0</td>\n",
              "      <td>1.0</td>\n",
              "      <td>1.0</td>\n",
              "      <td>1.0</td>\n",
              "      <td>1.0</td>\n",
              "      <td>1.0</td>\n",
              "      <td>1.0</td>\n",
              "      <td>2.0</td>\n",
              "      <td>2.0</td>\n",
              "      <td>1.0</td>\n",
              "      <td>4.0</td>\n",
              "      <td>1.0</td>\n",
              "      <td>1.0</td>\n",
              "      <td>1.0</td>\n",
              "      <td>1.0</td>\n",
              "      <td>2.0</td>\n",
              "      <td>1.0</td>\n",
              "      <td>1.0</td>\n",
              "      <td>1.0</td>\n",
              "      <td>1.0</td>\n",
              "      <td>1.0</td>\n",
              "      <td>1.0</td>\n",
              "      <td>1.0</td>\n",
              "      <td>1.0</td>\n",
              "      <td>1.0</td>\n",
              "      <td>1.0</td>\n",
              "      <td>1.0</td>\n",
              "      <td>NaN</td>\n",
              "      <td>NaN</td>\n",
              "      <td>1.0</td>\n",
              "      <td>1.0</td>\n",
              "      <td>...</td>\n",
              "      <td>2.0</td>\n",
              "      <td>2.0</td>\n",
              "      <td>NaN</td>\n",
              "      <td>NaN</td>\n",
              "      <td>2.0</td>\n",
              "      <td>NaN</td>\n",
              "      <td>NaN</td>\n",
              "      <td>2.0</td>\n",
              "      <td>2.0</td>\n",
              "      <td>1.0</td>\n",
              "      <td>2.0</td>\n",
              "      <td>2.0</td>\n",
              "      <td>2.0</td>\n",
              "      <td>2.0</td>\n",
              "      <td>1.0</td>\n",
              "      <td>1.0</td>\n",
              "      <td>1.0</td>\n",
              "      <td>2.0</td>\n",
              "      <td>2.0</td>\n",
              "      <td>2.0</td>\n",
              "      <td>2.0</td>\n",
              "      <td>2.0</td>\n",
              "      <td>2.0</td>\n",
              "      <td>NaN</td>\n",
              "      <td>NaN</td>\n",
              "      <td>NaN</td>\n",
              "      <td>2.0</td>\n",
              "      <td>2.0</td>\n",
              "      <td>2.0</td>\n",
              "      <td>2.0</td>\n",
              "      <td>1.0</td>\n",
              "      <td>NaN</td>\n",
              "      <td>NaN</td>\n",
              "      <td>1.0</td>\n",
              "      <td>2.0</td>\n",
              "      <td>2.0</td>\n",
              "      <td>2.0</td>\n",
              "      <td>457.0940</td>\n",
              "      <td>201801010</td>\n",
              "      <td>19</td>\n",
              "    </tr>\n",
              "    <tr>\n",
              "      <th>2</th>\n",
              "      <td>AG</td>\n",
              "      <td>3</td>\n",
              "      <td>4.0</td>\n",
              "      <td>1.0</td>\n",
              "      <td>4.0</td>\n",
              "      <td>1.67</td>\n",
              "      <td>56.0</td>\n",
              "      <td>1.0</td>\n",
              "      <td>1.0</td>\n",
              "      <td>1.0</td>\n",
              "      <td>1.0</td>\n",
              "      <td>3.0</td>\n",
              "      <td>2.0</td>\n",
              "      <td>8.0</td>\n",
              "      <td>1.0</td>\n",
              "      <td>2.0</td>\n",
              "      <td>NaN</td>\n",
              "      <td>2.0</td>\n",
              "      <td>1.0</td>\n",
              "      <td>4.0</td>\n",
              "      <td>1.0</td>\n",
              "      <td>1.0</td>\n",
              "      <td>1.0</td>\n",
              "      <td>1.0</td>\n",
              "      <td>2.0</td>\n",
              "      <td>2.0</td>\n",
              "      <td>6.0</td>\n",
              "      <td>1.0</td>\n",
              "      <td>1.0</td>\n",
              "      <td>1.0</td>\n",
              "      <td>1.0</td>\n",
              "      <td>1.0</td>\n",
              "      <td>1.0</td>\n",
              "      <td>1.0</td>\n",
              "      <td>1.0</td>\n",
              "      <td>1.0</td>\n",
              "      <td>2.0</td>\n",
              "      <td>1.0</td>\n",
              "      <td>1.0</td>\n",
              "      <td>1.0</td>\n",
              "      <td>...</td>\n",
              "      <td>2.0</td>\n",
              "      <td>2.0</td>\n",
              "      <td>2.0</td>\n",
              "      <td>NaN</td>\n",
              "      <td>2.0</td>\n",
              "      <td>NaN</td>\n",
              "      <td>NaN</td>\n",
              "      <td>2.0</td>\n",
              "      <td>2.0</td>\n",
              "      <td>2.0</td>\n",
              "      <td>2.0</td>\n",
              "      <td>2.0</td>\n",
              "      <td>2.0</td>\n",
              "      <td>1.0</td>\n",
              "      <td>1.0</td>\n",
              "      <td>1.0</td>\n",
              "      <td>1.0</td>\n",
              "      <td>1.0</td>\n",
              "      <td>2.0</td>\n",
              "      <td>2.0</td>\n",
              "      <td>2.0</td>\n",
              "      <td>2.0</td>\n",
              "      <td>2.0</td>\n",
              "      <td>2.0</td>\n",
              "      <td>2.0</td>\n",
              "      <td>2.0</td>\n",
              "      <td>2.0</td>\n",
              "      <td>2.0</td>\n",
              "      <td>2.0</td>\n",
              "      <td>2.0</td>\n",
              "      <td>1.0</td>\n",
              "      <td>NaN</td>\n",
              "      <td>NaN</td>\n",
              "      <td>1.0</td>\n",
              "      <td>2.0</td>\n",
              "      <td>2.0</td>\n",
              "      <td>2.0</td>\n",
              "      <td>261.4465</td>\n",
              "      <td>201801010</td>\n",
              "      <td>19</td>\n",
              "    </tr>\n",
              "    <tr>\n",
              "      <th>3</th>\n",
              "      <td>AG</td>\n",
              "      <td>4</td>\n",
              "      <td>6.0</td>\n",
              "      <td>1.0</td>\n",
              "      <td>2.0</td>\n",
              "      <td>1.73</td>\n",
              "      <td>70.0</td>\n",
              "      <td>1.0</td>\n",
              "      <td>4.0</td>\n",
              "      <td>1.0</td>\n",
              "      <td>3.0</td>\n",
              "      <td>1.0</td>\n",
              "      <td>1.0</td>\n",
              "      <td>NaN</td>\n",
              "      <td>1.0</td>\n",
              "      <td>3.0</td>\n",
              "      <td>2.0</td>\n",
              "      <td>2.0</td>\n",
              "      <td>1.0</td>\n",
              "      <td>4.0</td>\n",
              "      <td>2.0</td>\n",
              "      <td>1.0</td>\n",
              "      <td>1.0</td>\n",
              "      <td>3.0</td>\n",
              "      <td>2.0</td>\n",
              "      <td>1.0</td>\n",
              "      <td>2.0</td>\n",
              "      <td>2.0</td>\n",
              "      <td>4.0</td>\n",
              "      <td>3.0</td>\n",
              "      <td>2.0</td>\n",
              "      <td>1.0</td>\n",
              "      <td>1.0</td>\n",
              "      <td>1.0</td>\n",
              "      <td>1.0</td>\n",
              "      <td>1.0</td>\n",
              "      <td>1.0</td>\n",
              "      <td>2.0</td>\n",
              "      <td>2.0</td>\n",
              "      <td>2.0</td>\n",
              "      <td>...</td>\n",
              "      <td>2.0</td>\n",
              "      <td>2.0</td>\n",
              "      <td>1.0</td>\n",
              "      <td>1.0</td>\n",
              "      <td>2.0</td>\n",
              "      <td>1.0</td>\n",
              "      <td>2.0</td>\n",
              "      <td>2.0</td>\n",
              "      <td>1.0</td>\n",
              "      <td>2.0</td>\n",
              "      <td>1.0</td>\n",
              "      <td>2.0</td>\n",
              "      <td>2.0</td>\n",
              "      <td>2.0</td>\n",
              "      <td>NaN</td>\n",
              "      <td>NaN</td>\n",
              "      <td>1.0</td>\n",
              "      <td>2.0</td>\n",
              "      <td>2.0</td>\n",
              "      <td>1.0</td>\n",
              "      <td>2.0</td>\n",
              "      <td>2.0</td>\n",
              "      <td>2.0</td>\n",
              "      <td>2.0</td>\n",
              "      <td>2.0</td>\n",
              "      <td>2.0</td>\n",
              "      <td>1.0</td>\n",
              "      <td>1.0</td>\n",
              "      <td>1.0</td>\n",
              "      <td>2.0</td>\n",
              "      <td>1.0</td>\n",
              "      <td>1.0</td>\n",
              "      <td>1.0</td>\n",
              "      <td>2.0</td>\n",
              "      <td>2.0</td>\n",
              "      <td>1.0</td>\n",
              "      <td>1.0</td>\n",
              "      <td>550.9036</td>\n",
              "      <td>201801010</td>\n",
              "      <td>19</td>\n",
              "    </tr>\n",
              "    <tr>\n",
              "      <th>4</th>\n",
              "      <td>AG</td>\n",
              "      <td>5</td>\n",
              "      <td>3.0</td>\n",
              "      <td>2.0</td>\n",
              "      <td>2.0</td>\n",
              "      <td>NaN</td>\n",
              "      <td>NaN</td>\n",
              "      <td>1.0</td>\n",
              "      <td>1.0</td>\n",
              "      <td>1.0</td>\n",
              "      <td>1.0</td>\n",
              "      <td>NaN</td>\n",
              "      <td>NaN</td>\n",
              "      <td>NaN</td>\n",
              "      <td>2.0</td>\n",
              "      <td>3.0</td>\n",
              "      <td>2.0</td>\n",
              "      <td>2.0</td>\n",
              "      <td>1.0</td>\n",
              "      <td>4.0</td>\n",
              "      <td>1.0</td>\n",
              "      <td>NaN</td>\n",
              "      <td>1.0</td>\n",
              "      <td>1.0</td>\n",
              "      <td>1.0</td>\n",
              "      <td>1.0</td>\n",
              "      <td>1.0</td>\n",
              "      <td>1.0</td>\n",
              "      <td>1.0</td>\n",
              "      <td>1.0</td>\n",
              "      <td>1.0</td>\n",
              "      <td>1.0</td>\n",
              "      <td>1.0</td>\n",
              "      <td>1.0</td>\n",
              "      <td>1.0</td>\n",
              "      <td>1.0</td>\n",
              "      <td>2.0</td>\n",
              "      <td>1.0</td>\n",
              "      <td>1.0</td>\n",
              "      <td>1.0</td>\n",
              "      <td>...</td>\n",
              "      <td>2.0</td>\n",
              "      <td>2.0</td>\n",
              "      <td>2.0</td>\n",
              "      <td>NaN</td>\n",
              "      <td>2.0</td>\n",
              "      <td>NaN</td>\n",
              "      <td>NaN</td>\n",
              "      <td>2.0</td>\n",
              "      <td>2.0</td>\n",
              "      <td>2.0</td>\n",
              "      <td>2.0</td>\n",
              "      <td>2.0</td>\n",
              "      <td>1.0</td>\n",
              "      <td>1.0</td>\n",
              "      <td>1.0</td>\n",
              "      <td>1.0</td>\n",
              "      <td>1.0</td>\n",
              "      <td>2.0</td>\n",
              "      <td>2.0</td>\n",
              "      <td>2.0</td>\n",
              "      <td>2.0</td>\n",
              "      <td>2.0</td>\n",
              "      <td>2.0</td>\n",
              "      <td>NaN</td>\n",
              "      <td>NaN</td>\n",
              "      <td>NaN</td>\n",
              "      <td>2.0</td>\n",
              "      <td>2.0</td>\n",
              "      <td>2.0</td>\n",
              "      <td>NaN</td>\n",
              "      <td>NaN</td>\n",
              "      <td>NaN</td>\n",
              "      <td>NaN</td>\n",
              "      <td>2.0</td>\n",
              "      <td>2.0</td>\n",
              "      <td>2.0</td>\n",
              "      <td>2.0</td>\n",
              "      <td>457.0940</td>\n",
              "      <td>201801010</td>\n",
              "      <td>19</td>\n",
              "    </tr>\n",
              "  </tbody>\n",
              "</table>\n",
              "<p>5 rows × 124 columns</p>\n",
              "</div>"
            ],
            "text/plain": [
              "  site  record   q1   q2   q3  ...  qnpe3g  qnpe5g    weight    stratum  psu\n",
              "0   AG       1  3.0  2.0  2.0  ...     2.0     2.0  457.0940  201801010   19\n",
              "1   AG       2  3.0  2.0  2.0  ...     2.0     2.0  457.0940  201801010   19\n",
              "2   AG       3  4.0  1.0  4.0  ...     2.0     2.0  261.4465  201801010   19\n",
              "3   AG       4  6.0  1.0  2.0  ...     1.0     1.0  550.9036  201801010   19\n",
              "4   AG       5  3.0  2.0  2.0  ...     2.0     2.0  457.0940  201801010   19\n",
              "\n",
              "[5 rows x 124 columns]"
            ]
          },
          "metadata": {},
          "execution_count": 3
        }
      ]
    },
    {
      "cell_type": "markdown",
      "metadata": {
        "id": "M1k7OPyMFoM2"
      },
      "source": [
        "## Limpeza dos dados\n",
        "\n",
        "Além dos dados obtidos através de um questionário auto aplicado, estão presentes atributos não relevantes para o treinamento do modelo, como o atributo `record` (id do participante), o atributo `site` que possui o único valor *AG*, entre outras. Além desses atributos não relevantes, há atributos derivados dos dados coletados pela aplicação do questionário, sendo assim, para redução de dimensão, esses atributos serão removidos.\n",
        "\n",
        "O padrão para atributos do questinário é \"q\" seguido de um número, utilizando esse padrão em um regex é possivél filtrar todas colunas válidas."
      ]
    },
    {
      "cell_type": "code",
      "metadata": {
        "colab": {
          "base_uri": "https://localhost:8080/"
        },
        "id": "CYIXpU-_Qd31",
        "outputId": "830a5a92-1840-4a43-98a8-c8808e17b0cc"
      },
      "source": [
        "valid_columns = [column for column in data_df.columns if re.match(r'q[1-9]', column)]\n",
        "data_df = data_df[valid_columns]\n",
        "print(\"Colunas válidas:\", list(data_df.columns))"
      ],
      "execution_count": null,
      "outputs": [
        {
          "output_type": "stream",
          "name": "stdout",
          "text": [
            "Colunas válidas: ['q1', 'q2', 'q3', 'q4', 'q5', 'q6', 'q10', 'q15', 'q16', 'q17', 'q18', 'q19', 'q22', 'q23', 'q24', 'q25', 'q26', 'q27', 'q28', 'q29', 'q30', 'q31', 'q32', 'q33', 'q34', 'q35', 'q36', 'q37', 'q38', 'q39', 'q40', 'q41', 'q42', 'q43', 'q44', 'q45', 'q46', 'q47', 'q48', 'q49', 'q50', 'q51', 'q52', 'q53', 'q54', 'q55', 'q56', 'q57', 'q58', 'q61', 'q62', 'q63', 'q66', 'q67', 'q68']\n"
          ]
        }
      ]
    },
    {
      "cell_type": "markdown",
      "metadata": {
        "id": "tfRYi2Xy0Zs9"
      },
      "source": [
        "Para o problema proposto, é necessário analisar com atenção a coluna `q24` que contém a resposta da pergunta: *Durante os últimos 12 meses, você alguma vez considerou seriamente a tentativa de suicídio?*\n",
        "\n",
        "Primeiro vamos analisar a porcentagem de dados nulos e a distribuição das classes."
      ]
    },
    {
      "cell_type": "code",
      "metadata": {
        "colab": {
          "base_uri": "https://localhost:8080/",
          "height": 279
        },
        "id": "xnIW9NuzMU5K",
        "outputId": "9c0e91d4-a870-42f4-f785-4f81262423ad"
      },
      "source": [
        "q24 = data_df['q24'].copy().fillna(3)\n",
        "data_label = {1: 'Sim', 2: 'Não', 3: 'NA'}\n",
        "q24 = q24.map(data_label)\n",
        "ax = sns.histplot(q24)\n",
        "ax.text(2.7, 2, f'NA: {round(100*sum(data_df[\"q24\"].isna())/len(data_df), 2)}%')\n",
        "plt.show()"
      ],
      "execution_count": null,
      "outputs": [
        {
          "output_type": "display_data",
          "data": {
            "image/png": "[encoded data removed]",
            "text/plain": [
              "<Figure size 432x288 with 1 Axes>"
            ]
          },
          "metadata": {
            "needs_background": "light"
          }
        }
      ]
    },
    {
      "cell_type": "markdown",
      "metadata": {
        "id": "_jCMKUqFMUsL"
      },
      "source": [
        "Como observado acima, há uma proporção maior da classe \"Não\", porém, acredito que essa característica pertence ao mundo real, logo, isso agrega à generalização do modelo. Outro ponto é que dados nulos correspondem à 2,37% dos exemplos, como é uma fatia pequena, esses exemplos serão removidos."
      ]
    },
    {
      "cell_type": "code",
      "metadata": {
        "colab": {
          "base_uri": "https://localhost:8080/"
        },
        "id": "3W4ycLoPOb4a",
        "outputId": "be19b875-9b96-4e8c-e571-106906489343"
      },
      "source": [
        "data_df = data_df.dropna(subset = ['q24']).reset_index().drop(['index'], axis=1)\n",
        "data_df['q24'].unique()"
      ],
      "execution_count": null,
      "outputs": [
        {
          "output_type": "execute_result",
          "data": {
            "text/plain": [
              "array([1., 2.])"
            ]
          },
          "metadata": {},
          "execution_count": 6
        }
      ]
    },
    {
      "cell_type": "markdown",
      "metadata": {
        "id": "P3ESnWdK-WWT"
      },
      "source": [
        "Além do atributo `q24`, os demais também possuem entradas nulas, o ideal seria trata-las individualmente, porém, para otimização do tempo, todas serão preenchidas a seguir com a classe majoritária. "
      ]
    },
    {
      "cell_type": "code",
      "metadata": {
        "id": "IPw4nHgH-qHi"
      },
      "source": [
        "for column in data_df.columns:\n",
        "    if not column == 'q24':\n",
        "        mode = data_df[column].mode()[0]\n",
        "        data_df[column].fillna(mode, inplace=True)"
      ],
      "execution_count": null,
      "outputs": []
    },
    {
      "cell_type": "markdown",
      "metadata": {
        "id": "DN2HAHuOAabF"
      },
      "source": [
        "## Transformação dos dados"
      ]
    },
    {
      "cell_type": "markdown",
      "metadata": {
        "id": "4Xj0EvIHLDKZ"
      },
      "source": [
        "Agora, podemos seguir a transformação dos atributos. Todos os atributos já são númericos, facilitando a transformação dos dados, porém, todos iniciam contagem a partir do \"1\" invéz de \"0\" e perguntas de Sim e Não foram mantidas como 1 e 2, respectivamente. Além disso, há casos de atributos categóricos ordinais bagunçados, então, uma série de funções instanciadas abaixo serão aplicadas ao dataset para transformação dos atributos."
      ]
    },
    {
      "cell_type": "code",
      "metadata": {
        "id": "miYy89kFK0Ms"
      },
      "source": [
        "def transform_binary_columns(dataframe, columns):\n",
        "    for column in columns:\n",
        "        if 2.0 in dataframe[column].unique():\n",
        "            new_values = [0 if value == 2.0 else 1 for value in dataframe[column]]\n",
        "            dataframe[column] = new_values\n",
        "    return dataframe\n",
        "\n",
        "def transform_ordinal_columns(dataframe, columns):\n",
        "    for column in columns:\n",
        "        if 0 not in dataframe[column].unique():\n",
        "            dataframe[column] = dataframe[column].transform(lambda value: int(value - 1))\n",
        "    return dataframe\n",
        "\n",
        "def binarize_categorical_columns(dataframe, columns):\n",
        "    for column in columns:\n",
        "        lb = LabelBinarizer()\n",
        "        lb.fit(dataframe[column])\n",
        "        new_values = lb.transform(dataframe[column])\n",
        "        new_values_df = pd.DataFrame(new_values)\n",
        "        new_values_df.columns = [f'{column}_{str(value).split(\".\")[0]}' for value in lb.classes_]\n",
        "        dataframe = pd.concat([dataframe, new_values_df], axis=1).drop([column], axis=1)\n",
        "    return dataframe\n",
        "\n",
        "def transform_special_ordinal_columns(dataframe, columns):\n",
        "    for column in columns:\n",
        "        unique_values = dataframe[column].unique().tolist()\n",
        "        unique_values.sort()\n",
        "        first = unique_values[0]\n",
        "        others = unique_values[1:]\n",
        "        others = others[::-1]\n",
        "        new_values = [first] + others\n",
        "        relabel_dict = {old_value: int(new_value) for old_value, new_value in zip(unique_values, new_values)}\n",
        "        dataframe[column] = dataframe[column].map(relabel_dict)\n",
        "    return dataframe"
      ],
      "execution_count": null,
      "outputs": []
    },
    {
      "cell_type": "markdown",
      "metadata": {
        "id": "Nb9B7heJBkhH"
      },
      "source": [
        "---\n",
        "\n",
        "### Atributos descartados:\n",
        "Há atibutos não relevantes ou que viriam por atrapalhar a generalização do modelo. Abaixo segue uma breve explicação da mitivação da exclusão dessas colunas:\n",
        "\n",
        "- `q19`: é um atributo muito desbalanceado, com 70% dos exemplos agrupados em uma classse e o resto dividido entre as demais. Além de corresponder à causa de uma lesão sofrida pelo participante, o que não agrega substancialmente à generalização do modelo.\n",
        "\n",
        "- `q25` e `q26`: Correspondem, respectivamente, à \"*Fez um plano de suicídio?*\" e \"*Tentativa de suicídio.*\", ambas questões se relacionam diretamente ao problema central sobre tendÊncia ao pensamento suicida, o que dificultaria a generalização do modelo sobre os outros atributos.\n",
        "\n",
        "- `q30`: O atributo foi removido pois 91,9% dos exemplos estão agrupados em uma única classe, tornando o atributo pouco relevante ara generalização."
      ]
    },
    {
      "cell_type": "code",
      "metadata": {
        "id": "rZ1LhImMB09e"
      },
      "source": [
        "useless_columns = ['q19', 'q25', 'q26', 'q30']\n",
        "\n",
        "data_df = data_df.drop(useless_columns, axis=1)"
      ],
      "execution_count": null,
      "outputs": []
    },
    {
      "cell_type": "markdown",
      "metadata": {
        "id": "dHrqFT15A2qd"
      },
      "source": [
        "---\n",
        "\n",
        "### Atributos binários:"
      ]
    },
    {
      "cell_type": "code",
      "metadata": {
        "id": "zRrhBCXMA8j6"
      },
      "source": [
        "binary_columns = ['q2', 'q24', 'q44', 'q66', 'q67', 'q68']\n",
        "\n",
        "data_df = transform_binary_columns(data_df, binary_columns)"
      ],
      "execution_count": null,
      "outputs": []
    },
    {
      "cell_type": "markdown",
      "metadata": {
        "id": "bGo3vyRgJGzX"
      },
      "source": [
        "\n",
        "\n",
        "---\n",
        "\n",
        "### Atributos categóricos não ordinais:"
      ]
    },
    {
      "cell_type": "code",
      "metadata": {
        "id": "E7Op30LfJK02"
      },
      "source": [
        "categorical_columns = ['q18', 'q37', 'q47', 'q48']\n",
        "\n",
        "data_df = binarize_categorical_columns(data_df, categorical_columns)"
      ],
      "execution_count": null,
      "outputs": []
    },
    {
      "cell_type": "markdown",
      "metadata": {
        "id": "y4BPtGMmG9b-"
      },
      "source": [
        "---\n",
        "\n",
        "### Atributos categóricos ordinais:"
      ]
    },
    {
      "cell_type": "code",
      "metadata": {
        "id": "rXTL2oLmHKAS"
      },
      "source": [
        "ordinal_columns = ['q1', 'q3', 'q6', 'q10', 'q15',\n",
        "                   'q16', 'q17', 'q22', 'q23', 'q27',\n",
        "                   'q29', 'q31', 'q32', 'q35', 'q36', \n",
        "                   'q38', 'q39', 'q41', 'q42', 'q43', \n",
        "                   'q46', 'q49', 'q50', 'q51', 'q52', \n",
        "                   'q53', 'q54', 'q55', 'q56', 'q57', \n",
        "                   'q58', 'q61', 'q62', 'q63']\n",
        "\n",
        "data_df = transform_ordinal_columns(data_df, ordinal_columns)"
      ],
      "execution_count": null,
      "outputs": []
    },
    {
      "cell_type": "markdown",
      "metadata": {
        "id": "EcxVXpi9LNKM"
      },
      "source": [
        "\n",
        "\n",
        "---\n",
        "\n",
        "### Atributos categóricos ordinais especiais:"
      ]
    },
    {
      "cell_type": "code",
      "metadata": {
        "id": "suasss8RLTKr"
      },
      "source": [
        "special_ordinal_columns = ['q28', 'q34', 'q40', 'q45']\n",
        "\n",
        "data_df = transform_special_ordinal_columns(data_df, special_ordinal_columns)"
      ],
      "execution_count": null,
      "outputs": []
    },
    {
      "cell_type": "markdown",
      "metadata": {
        "id": "w-z0AUmOCIat"
      },
      "source": [
        "---\n",
        "\n",
        "### Tratamento especial atributo q33:\n",
        "\n",
        "O atributo possui categorias divididas entre “Nenhum”, “Pai ou guardião”, “Mãe ou guardiã”, “Os dois” e “Não sei”, para simplificação dos dados, as classes “Pai ou guardião” e “Mãe ou guardiã” serão agrupadas em uma única classe “Pai/Guardião ou Mãe/Guardiã”."
      ]
    },
    {
      "cell_type": "code",
      "metadata": {
        "id": "vSGjriNvCikF"
      },
      "source": [
        "data_df['q33'] = data_df['q33'].apply(lambda x: x - 1 if x >= 3 else x)\n",
        "data_df = binarize_categorical_columns(data_df, ['q33'])"
      ],
      "execution_count": null,
      "outputs": []
    },
    {
      "cell_type": "markdown",
      "metadata": {
        "id": "dbraLqD9NM7c"
      },
      "source": [
        "---\n",
        "\n",
        "### Padronização dos dados "
      ]
    },
    {
      "cell_type": "code",
      "metadata": {
        "id": "gecuinlDNMcV"
      },
      "source": [
        "y = data_df['q24']\n",
        "X = data_df.drop(['q24'], axis=1)\n",
        "\n",
        "ss = StandardScaler()\n",
        "new_values = ss.fit_transform(X)\n",
        "new_values_df = pd.DataFrame(new_values)\n",
        "new_values_df.columns = X.columns\n",
        "\n",
        "data_df = pd.concat([y, new_values_df], axis=1)"
      ],
      "execution_count": null,
      "outputs": []
    },
    {
      "cell_type": "markdown",
      "metadata": {
        "id": "2IBNCARTMT2U"
      },
      "source": [
        "---\n",
        "\n",
        "### Visualização dos dados transformados:"
      ]
    },
    {
      "cell_type": "code",
      "metadata": {
        "colab": {
          "base_uri": "https://localhost:8080/",
          "height": 223
        },
        "id": "sU1YDKCeMY6W",
        "outputId": "5cb375b2-7e9e-4824-b4f5-441fb49e6342"
      },
      "source": [
        "data_df.head()"
      ],
      "execution_count": null,
      "outputs": [
        {
          "output_type": "execute_result",
          "data": {
            "text/html": [
              "<div>\n",
              "<style scoped>\n",
              "    .dataframe tbody tr th:only-of-type {\n",
              "        vertical-align: middle;\n",
              "    }\n",
              "\n",
              "    .dataframe tbody tr th {\n",
              "        vertical-align: top;\n",
              "    }\n",
              "\n",
              "    .dataframe thead th {\n",
              "        text-align: right;\n",
              "    }\n",
              "</style>\n",
              "<table border=\"1\" class=\"dataframe\">\n",
              "  <thead>\n",
              "    <tr style=\"text-align: right;\">\n",
              "      <th></th>\n",
              "      <th>q24</th>\n",
              "      <th>q1</th>\n",
              "      <th>q2</th>\n",
              "      <th>q3</th>\n",
              "      <th>q4</th>\n",
              "      <th>q5</th>\n",
              "      <th>q6</th>\n",
              "      <th>q10</th>\n",
              "      <th>q15</th>\n",
              "      <th>q16</th>\n",
              "      <th>q17</th>\n",
              "      <th>q22</th>\n",
              "      <th>q23</th>\n",
              "      <th>q27</th>\n",
              "      <th>q28</th>\n",
              "      <th>q29</th>\n",
              "      <th>q31</th>\n",
              "      <th>q32</th>\n",
              "      <th>q34</th>\n",
              "      <th>q35</th>\n",
              "      <th>q36</th>\n",
              "      <th>q38</th>\n",
              "      <th>q39</th>\n",
              "      <th>q40</th>\n",
              "      <th>q41</th>\n",
              "      <th>q42</th>\n",
              "      <th>q43</th>\n",
              "      <th>q44</th>\n",
              "      <th>q45</th>\n",
              "      <th>q46</th>\n",
              "      <th>q49</th>\n",
              "      <th>q50</th>\n",
              "      <th>q51</th>\n",
              "      <th>q52</th>\n",
              "      <th>q53</th>\n",
              "      <th>q54</th>\n",
              "      <th>q55</th>\n",
              "      <th>q56</th>\n",
              "      <th>q57</th>\n",
              "      <th>q58</th>\n",
              "      <th>q61</th>\n",
              "      <th>q62</th>\n",
              "      <th>q63</th>\n",
              "      <th>q66</th>\n",
              "      <th>q67</th>\n",
              "      <th>q68</th>\n",
              "      <th>q33_1</th>\n",
              "      <th>q33_2</th>\n",
              "      <th>q33_3</th>\n",
              "      <th>q33_4</th>\n",
              "      <th>q18_1</th>\n",
              "      <th>q18_2</th>\n",
              "      <th>q18_3</th>\n",
              "      <th>q18_4</th>\n",
              "      <th>q18_5</th>\n",
              "      <th>q18_6</th>\n",
              "      <th>q18_7</th>\n",
              "      <th>q18_8</th>\n",
              "      <th>q37_1</th>\n",
              "      <th>q37_2</th>\n",
              "      <th>q37_3</th>\n",
              "      <th>q37_4</th>\n",
              "      <th>q37_5</th>\n",
              "      <th>q37_6</th>\n",
              "      <th>q37_7</th>\n",
              "      <th>q47_1</th>\n",
              "      <th>q47_2</th>\n",
              "      <th>q47_3</th>\n",
              "      <th>q48_1</th>\n",
              "      <th>q48_2</th>\n",
              "      <th>q48_3</th>\n",
              "      <th>q48_4</th>\n",
              "    </tr>\n",
              "  </thead>\n",
              "  <tbody>\n",
              "    <tr>\n",
              "      <th>0</th>\n",
              "      <td>1</td>\n",
              "      <td>-1.404354</td>\n",
              "      <td>-0.951660</td>\n",
              "      <td>-0.822009</td>\n",
              "      <td>-0.341102</td>\n",
              "      <td>-0.011165</td>\n",
              "      <td>0.722481</td>\n",
              "      <td>-0.549264</td>\n",
              "      <td>-0.330885</td>\n",
              "      <td>-0.405095</td>\n",
              "      <td>-0.513723</td>\n",
              "      <td>2.250050</td>\n",
              "      <td>2.513556</td>\n",
              "      <td>-0.583159</td>\n",
              "      <td>2.600614</td>\n",
              "      <td>4.189467</td>\n",
              "      <td>2.514529</td>\n",
              "      <td>1.703890</td>\n",
              "      <td>1.957162</td>\n",
              "      <td>3.482920</td>\n",
              "      <td>1.674510</td>\n",
              "      <td>-0.649130</td>\n",
              "      <td>5.141666</td>\n",
              "      <td>-0.380805</td>\n",
              "      <td>-0.339679</td>\n",
              "      <td>-0.266606</td>\n",
              "      <td>-0.131817</td>\n",
              "      <td>1.202517</td>\n",
              "      <td>2.615112</td>\n",
              "      <td>2.953849</td>\n",
              "      <td>1.642129</td>\n",
              "      <td>1.258124</td>\n",
              "      <td>-0.345366</td>\n",
              "      <td>2.139845</td>\n",
              "      <td>3.866711</td>\n",
              "      <td>-1.918971</td>\n",
              "      <td>-1.096169</td>\n",
              "      <td>1.258969</td>\n",
              "      <td>1.070513</td>\n",
              "      <td>-0.783117</td>\n",
              "      <td>-1.147324</td>\n",
              "      <td>-1.427522</td>\n",
              "      <td>1.605918</td>\n",
              "      <td>1.948103</td>\n",
              "      <td>1.920009</td>\n",
              "      <td>-0.521026</td>\n",
              "      <td>-1.341018</td>\n",
              "      <td>1.785560</td>\n",
              "      <td>-0.305374</td>\n",
              "      <td>-0.185578</td>\n",
              "      <td>0.579260</td>\n",
              "      <td>-0.258486</td>\n",
              "      <td>-0.122996</td>\n",
              "      <td>-0.137486</td>\n",
              "      <td>-0.035241</td>\n",
              "      <td>-0.075464</td>\n",
              "      <td>-0.029692</td>\n",
              "      <td>-0.415745</td>\n",
              "      <td>-0.951728</td>\n",
              "      <td>-0.566389</td>\n",
              "      <td>5.940288</td>\n",
              "      <td>-0.387641</td>\n",
              "      <td>-0.257931</td>\n",
              "      <td>-0.05023</td>\n",
              "      <td>-0.249828</td>\n",
              "      <td>-1.321303</td>\n",
              "      <td>-0.626228</td>\n",
              "      <td>3.334971</td>\n",
              "      <td>-1.325519</td>\n",
              "      <td>-0.52866</td>\n",
              "      <td>-0.331907</td>\n",
              "      <td>4.604120</td>\n",
              "    </tr>\n",
              "    <tr>\n",
              "      <th>1</th>\n",
              "      <td>0</td>\n",
              "      <td>-1.404354</td>\n",
              "      <td>-0.951660</td>\n",
              "      <td>-0.822009</td>\n",
              "      <td>-0.341102</td>\n",
              "      <td>-0.011165</td>\n",
              "      <td>-0.597870</td>\n",
              "      <td>-0.549264</td>\n",
              "      <td>-0.330885</td>\n",
              "      <td>-0.405095</td>\n",
              "      <td>-0.513723</td>\n",
              "      <td>-1.116522</td>\n",
              "      <td>-1.175953</td>\n",
              "      <td>0.569197</td>\n",
              "      <td>-0.745956</td>\n",
              "      <td>-0.389541</td>\n",
              "      <td>-0.608264</td>\n",
              "      <td>-0.319737</td>\n",
              "      <td>-1.588679</td>\n",
              "      <td>-0.772189</td>\n",
              "      <td>-0.882673</td>\n",
              "      <td>-0.649130</td>\n",
              "      <td>-0.337691</td>\n",
              "      <td>-0.380805</td>\n",
              "      <td>-0.339679</td>\n",
              "      <td>-0.266606</td>\n",
              "      <td>-0.131817</td>\n",
              "      <td>-0.831589</td>\n",
              "      <td>-0.695445</td>\n",
              "      <td>-0.574166</td>\n",
              "      <td>0.801793</td>\n",
              "      <td>-0.439064</td>\n",
              "      <td>-1.483722</td>\n",
              "      <td>-0.548229</td>\n",
              "      <td>-0.524511</td>\n",
              "      <td>-0.244970</td>\n",
              "      <td>0.316283</td>\n",
              "      <td>1.258969</td>\n",
              "      <td>1.070513</td>\n",
              "      <td>-0.783117</td>\n",
              "      <td>-0.569591</td>\n",
              "      <td>-0.206672</td>\n",
              "      <td>-1.088696</td>\n",
              "      <td>-0.513320</td>\n",
              "      <td>-0.520831</td>\n",
              "      <td>-0.521026</td>\n",
              "      <td>0.745702</td>\n",
              "      <td>-0.560048</td>\n",
              "      <td>-0.305374</td>\n",
              "      <td>-0.185578</td>\n",
              "      <td>0.579260</td>\n",
              "      <td>-0.258486</td>\n",
              "      <td>-0.122996</td>\n",
              "      <td>-0.137486</td>\n",
              "      <td>-0.035241</td>\n",
              "      <td>-0.075464</td>\n",
              "      <td>-0.029692</td>\n",
              "      <td>-0.415745</td>\n",
              "      <td>1.050720</td>\n",
              "      <td>-0.566389</td>\n",
              "      <td>-0.168342</td>\n",
              "      <td>-0.387641</td>\n",
              "      <td>-0.257931</td>\n",
              "      <td>-0.05023</td>\n",
              "      <td>-0.249828</td>\n",
              "      <td>0.756829</td>\n",
              "      <td>-0.626228</td>\n",
              "      <td>-0.299853</td>\n",
              "      <td>0.754421</td>\n",
              "      <td>-0.52866</td>\n",
              "      <td>-0.331907</td>\n",
              "      <td>-0.217197</td>\n",
              "    </tr>\n",
              "    <tr>\n",
              "      <th>2</th>\n",
              "      <td>0</td>\n",
              "      <td>0.805733</td>\n",
              "      <td>1.050796</td>\n",
              "      <td>-0.822009</td>\n",
              "      <td>1.287714</td>\n",
              "      <td>0.842714</td>\n",
              "      <td>-0.597870</td>\n",
              "      <td>1.529177</td>\n",
              "      <td>-0.330885</td>\n",
              "      <td>1.273838</td>\n",
              "      <td>-0.513723</td>\n",
              "      <td>-1.116522</td>\n",
              "      <td>0.668801</td>\n",
              "      <td>0.569197</td>\n",
              "      <td>2.600614</td>\n",
              "      <td>-0.389541</td>\n",
              "      <td>1.473598</td>\n",
              "      <td>-0.319737</td>\n",
              "      <td>1.957162</td>\n",
              "      <td>-0.063004</td>\n",
              "      <td>0.395919</td>\n",
              "      <td>0.506643</td>\n",
              "      <td>-0.337691</td>\n",
              "      <td>-0.380805</td>\n",
              "      <td>-0.339679</td>\n",
              "      <td>-0.266606</td>\n",
              "      <td>-0.131817</td>\n",
              "      <td>1.202517</td>\n",
              "      <td>2.615112</td>\n",
              "      <td>0.013836</td>\n",
              "      <td>0.381624</td>\n",
              "      <td>-1.117939</td>\n",
              "      <td>1.362167</td>\n",
              "      <td>0.123790</td>\n",
              "      <td>-0.524511</td>\n",
              "      <td>-0.244970</td>\n",
              "      <td>-1.096169</td>\n",
              "      <td>1.258969</td>\n",
              "      <td>1.070513</td>\n",
              "      <td>-0.783117</td>\n",
              "      <td>0.585875</td>\n",
              "      <td>-1.427522</td>\n",
              "      <td>1.066995</td>\n",
              "      <td>-0.513320</td>\n",
              "      <td>-0.520831</td>\n",
              "      <td>-0.521026</td>\n",
              "      <td>0.745702</td>\n",
              "      <td>-0.560048</td>\n",
              "      <td>-0.305374</td>\n",
              "      <td>-0.185578</td>\n",
              "      <td>0.579260</td>\n",
              "      <td>-0.258486</td>\n",
              "      <td>-0.122996</td>\n",
              "      <td>-0.137486</td>\n",
              "      <td>-0.035241</td>\n",
              "      <td>-0.075464</td>\n",
              "      <td>-0.029692</td>\n",
              "      <td>-0.415745</td>\n",
              "      <td>-0.951728</td>\n",
              "      <td>-0.566389</td>\n",
              "      <td>5.940288</td>\n",
              "      <td>-0.387641</td>\n",
              "      <td>-0.257931</td>\n",
              "      <td>-0.05023</td>\n",
              "      <td>-0.249828</td>\n",
              "      <td>-1.321303</td>\n",
              "      <td>1.596862</td>\n",
              "      <td>-0.299853</td>\n",
              "      <td>-1.325519</td>\n",
              "      <td>-0.52866</td>\n",
              "      <td>-0.331907</td>\n",
              "      <td>4.604120</td>\n",
              "    </tr>\n",
              "    <tr>\n",
              "      <th>3</th>\n",
              "      <td>0</td>\n",
              "      <td>-1.404354</td>\n",
              "      <td>-0.951660</td>\n",
              "      <td>-0.822009</td>\n",
              "      <td>-0.341102</td>\n",
              "      <td>-0.011165</td>\n",
              "      <td>-0.597870</td>\n",
              "      <td>-0.549264</td>\n",
              "      <td>-0.330885</td>\n",
              "      <td>-0.405095</td>\n",
              "      <td>-0.513723</td>\n",
              "      <td>-0.274879</td>\n",
              "      <td>0.668801</td>\n",
              "      <td>0.569197</td>\n",
              "      <td>-0.745956</td>\n",
              "      <td>-0.389541</td>\n",
              "      <td>-0.608264</td>\n",
              "      <td>-0.994279</td>\n",
              "      <td>-1.588679</td>\n",
              "      <td>-0.772189</td>\n",
              "      <td>-0.882673</td>\n",
              "      <td>-0.649130</td>\n",
              "      <td>-0.337691</td>\n",
              "      <td>-0.380805</td>\n",
              "      <td>-0.339679</td>\n",
              "      <td>-0.266606</td>\n",
              "      <td>-0.131817</td>\n",
              "      <td>-0.831589</td>\n",
              "      <td>-0.695445</td>\n",
              "      <td>-0.574166</td>\n",
              "      <td>-0.458712</td>\n",
              "      <td>-0.439064</td>\n",
              "      <td>-0.345366</td>\n",
              "      <td>-1.220247</td>\n",
              "      <td>-0.524511</td>\n",
              "      <td>0.592030</td>\n",
              "      <td>1.022509</td>\n",
              "      <td>0.593917</td>\n",
              "      <td>1.070513</td>\n",
              "      <td>-0.783117</td>\n",
              "      <td>-1.147324</td>\n",
              "      <td>-0.817097</td>\n",
              "      <td>-0.549773</td>\n",
              "      <td>-0.513320</td>\n",
              "      <td>-0.520831</td>\n",
              "      <td>-0.521026</td>\n",
              "      <td>0.745702</td>\n",
              "      <td>-0.560048</td>\n",
              "      <td>-0.305374</td>\n",
              "      <td>-0.185578</td>\n",
              "      <td>0.579260</td>\n",
              "      <td>-0.258486</td>\n",
              "      <td>-0.122996</td>\n",
              "      <td>-0.137486</td>\n",
              "      <td>-0.035241</td>\n",
              "      <td>-0.075464</td>\n",
              "      <td>-0.029692</td>\n",
              "      <td>-0.415745</td>\n",
              "      <td>1.050720</td>\n",
              "      <td>-0.566389</td>\n",
              "      <td>-0.168342</td>\n",
              "      <td>-0.387641</td>\n",
              "      <td>-0.257931</td>\n",
              "      <td>-0.05023</td>\n",
              "      <td>-0.249828</td>\n",
              "      <td>0.756829</td>\n",
              "      <td>-0.626228</td>\n",
              "      <td>-0.299853</td>\n",
              "      <td>0.754421</td>\n",
              "      <td>-0.52866</td>\n",
              "      <td>-0.331907</td>\n",
              "      <td>-0.217197</td>\n",
              "    </tr>\n",
              "    <tr>\n",
              "      <th>4</th>\n",
              "      <td>0</td>\n",
              "      <td>-1.404354</td>\n",
              "      <td>1.050796</td>\n",
              "      <td>-0.822009</td>\n",
              "      <td>1.162420</td>\n",
              "      <td>-1.035821</td>\n",
              "      <td>-0.597870</td>\n",
              "      <td>0.836363</td>\n",
              "      <td>-0.330885</td>\n",
              "      <td>0.434371</td>\n",
              "      <td>0.437937</td>\n",
              "      <td>-1.116522</td>\n",
              "      <td>-0.253576</td>\n",
              "      <td>0.569197</td>\n",
              "      <td>-0.745956</td>\n",
              "      <td>-0.389541</td>\n",
              "      <td>-0.608264</td>\n",
              "      <td>-0.994279</td>\n",
              "      <td>0.437516</td>\n",
              "      <td>-0.063004</td>\n",
              "      <td>-0.030278</td>\n",
              "      <td>-0.649130</td>\n",
              "      <td>-0.337691</td>\n",
              "      <td>-0.380805</td>\n",
              "      <td>-0.339679</td>\n",
              "      <td>-0.266606</td>\n",
              "      <td>-0.131817</td>\n",
              "      <td>-0.831589</td>\n",
              "      <td>-0.695445</td>\n",
              "      <td>-0.574166</td>\n",
              "      <td>-0.458712</td>\n",
              "      <td>-0.439064</td>\n",
              "      <td>-0.345366</td>\n",
              "      <td>-1.220247</td>\n",
              "      <td>-0.524511</td>\n",
              "      <td>0.592030</td>\n",
              "      <td>1.728735</td>\n",
              "      <td>1.258969</td>\n",
              "      <td>1.070513</td>\n",
              "      <td>-0.783117</td>\n",
              "      <td>1.741341</td>\n",
              "      <td>-0.817097</td>\n",
              "      <td>-0.010851</td>\n",
              "      <td>-0.513320</td>\n",
              "      <td>-0.520831</td>\n",
              "      <td>-0.521026</td>\n",
              "      <td>0.745702</td>\n",
              "      <td>-0.560048</td>\n",
              "      <td>-0.305374</td>\n",
              "      <td>-0.185578</td>\n",
              "      <td>-1.726341</td>\n",
              "      <td>3.868683</td>\n",
              "      <td>-0.122996</td>\n",
              "      <td>-0.137486</td>\n",
              "      <td>-0.035241</td>\n",
              "      <td>-0.075464</td>\n",
              "      <td>-0.029692</td>\n",
              "      <td>-0.415745</td>\n",
              "      <td>-0.951728</td>\n",
              "      <td>-0.566389</td>\n",
              "      <td>-0.168342</td>\n",
              "      <td>-0.387641</td>\n",
              "      <td>-0.257931</td>\n",
              "      <td>-0.05023</td>\n",
              "      <td>4.002753</td>\n",
              "      <td>0.756829</td>\n",
              "      <td>-0.626228</td>\n",
              "      <td>-0.299853</td>\n",
              "      <td>0.754421</td>\n",
              "      <td>-0.52866</td>\n",
              "      <td>-0.331907</td>\n",
              "      <td>-0.217197</td>\n",
              "    </tr>\n",
              "  </tbody>\n",
              "</table>\n",
              "</div>"
            ],
            "text/plain": [
              "   q24        q1        q2        q3  ...     q48_1    q48_2     q48_3     q48_4\n",
              "0    1 -1.404354 -0.951660 -0.822009  ... -1.325519 -0.52866 -0.331907  4.604120\n",
              "1    0 -1.404354 -0.951660 -0.822009  ...  0.754421 -0.52866 -0.331907 -0.217197\n",
              "2    0  0.805733  1.050796 -0.822009  ... -1.325519 -0.52866 -0.331907  4.604120\n",
              "3    0 -1.404354 -0.951660 -0.822009  ...  0.754421 -0.52866 -0.331907 -0.217197\n",
              "4    0 -1.404354  1.050796 -0.822009  ...  0.754421 -0.52866 -0.331907 -0.217197\n",
              "\n",
              "[5 rows x 72 columns]"
            ]
          },
          "metadata": {},
          "execution_count": 16
        }
      ]
    },
    {
      "cell_type": "code",
      "metadata": {
        "colab": {
          "base_uri": "https://localhost:8080/"
        },
        "id": "FsAK9jqOZzw3",
        "outputId": "b5a81056-a92e-4523-fbfe-c13dbe2e1b78"
      },
      "source": [
        "print(\"Total de atributos:\", data_df.shape[1], \"\\nTotal de exemplos: \", data_df.shape[0])"
      ],
      "execution_count": null,
      "outputs": [
        {
          "output_type": "stream",
          "name": "stdout",
          "text": [
            "Total de atributos: 72 \n",
            "Total de exemplos:  55628\n"
          ]
        }
      ]
    },
    {
      "cell_type": "markdown",
      "metadata": {
        "id": "ppGF5DMgOrG6"
      },
      "source": [
        "## Redução de dimensão\n",
        "\n",
        "Com a grande quantidade de colunas geradas na etapa de transformação dos dados e mostrado acima, se torna necessária a redução dessa dimensionalidade, visando otimização de performance do treinamento dos modelos.\n",
        "\n",
        "Vamos primeiro realizar uma análise dos principais componentes entre os atributos. Para isso será utilizado o modulo `PCA` da bibliotaca `scikit learn` e será analisado a explicabilidade dos primeiros 15 atributos mais importantes."
      ]
    },
    {
      "cell_type": "code",
      "metadata": {
        "colab": {
          "base_uri": "https://localhost:8080/",
          "height": 279
        },
        "id": "oYfwGI5rbKwC",
        "outputId": "829d2c79-81f5-4174-bc19-684d70826d08"
      },
      "source": [
        "X = data_df.drop(['q24'], axis=1)\n",
        "y = data_df['q24']\n",
        "\n",
        "X_train, X_test, y_train, y_test = train_test_split(X, y, test_size=0.20, random_state=10, stratify=y)\n",
        "\n",
        "pca = PCA(n_components=None)\n",
        "\n",
        "pca.fit(X_train)\n",
        "\n",
        "pca_ratio = pca.explained_variance_ratio_\n",
        "\n",
        "pca_ratio_slice = pca_ratio[:15]\n",
        "cum_ratio = np.cumsum(pca_ratio_slice)\n",
        "\n",
        "plt.bar(range(len(pca_ratio_slice)), pca_ratio_slice, alpha=0.5, align='center', label='variância explicada - individual')\n",
        "plt.step(range(len(cum_ratio)), cum_ratio, where='mid', label='variância explicada - cumulativa')\n",
        "\n",
        "plt.ylabel('Taxa de variância explicada')\n",
        "plt.xlabel('Componentes principais')\n",
        "plt.legend(loc='best')\n",
        "plt.show()"
      ],
      "execution_count": null,
      "outputs": [
        {
          "output_type": "display_data",
          "data": {
            "image/png": "[encoded data removed]",
            "text/plain": [
              "<Figure size 432x288 with 1 Axes>"
            ]
          },
          "metadata": {
            "needs_background": "light"
          }
        }
      ]
    },
    {
      "cell_type": "markdown",
      "metadata": {
        "id": "2lTVbJ5fcXJJ"
      },
      "source": [
        "Com o gráfico acima é possivel notar que a técnica `PCA` não se saiu bem neste dataset, pois, nenhum pequeno grupo de atributos responde à uma boa taxa de explicabilidade dos dados.\n",
        "\n",
        "A partir dessa conclusão poderíamos partir para utilização da técnica `LDA`, porém, essa técnica seleciona `c - 1` atributos, onde `c` é o número de classes. Como há somente duas classes essa técnica é inútil para o problema, então, para utilizar uma técnica supervisionada pode-se treinar uma RandomForest para analisar a importância dos atributos, como a seguir."
      ]
    },
    {
      "cell_type": "code",
      "metadata": {
        "colab": {
          "base_uri": "https://localhost:8080/"
        },
        "id": "sYHs7FbGh24_",
        "outputId": "4e1a241f-c281-4df8-a020-47fd84bc8cfe"
      },
      "source": [
        "rf = RandomForestClassifier(n_estimators=1000,\n",
        "                            random_state=10,\n",
        "                            n_jobs=-1)\n",
        "\n",
        "rf.fit(X_train, y_train)"
      ],
      "execution_count": null,
      "outputs": [
        {
          "output_type": "execute_result",
          "data": {
            "text/plain": [
              "RandomForestClassifier(n_estimators=1000, n_jobs=-1, random_state=10)"
            ]
          },
          "metadata": {},
          "execution_count": 19
        }
      ]
    },
    {
      "cell_type": "markdown",
      "metadata": {
        "id": "Pgl3auMYmQOm"
      },
      "source": [
        "Com a floresta treinada podemos olhar para importância de cada atributos, como segue."
      ]
    },
    {
      "cell_type": "code",
      "metadata": {
        "colab": {
          "base_uri": "https://localhost:8080/",
          "height": 297
        },
        "id": "4kQAQT0LmXk5",
        "outputId": "f0553a1e-7117-4aeb-f8e1-4af85ae87326"
      },
      "source": [
        "importances = rf.feature_importances_\n",
        "\n",
        "indices = np.argsort(importances)[::-1]\n",
        "indices_slice = indices[:15]\n",
        "\n",
        "plt.title('Importância dos atributos')\n",
        "plt.bar(range(15), importances[indices_slice], color='lightblue', align='center')\n",
        "plt.xticks(range(15), X_train.columns[indices_slice], rotation=90)\n",
        "plt.xlim([-1, 15])\n",
        "plt.tight_layout()\n",
        "plt.show()"
      ],
      "execution_count": null,
      "outputs": [
        {
          "output_type": "display_data",
          "data": {
            "image/png": "[encoded data removed]",
            "text/plain": [
              "<Figure size 432x288 with 1 Axes>"
            ]
          },
          "metadata": {
            "needs_background": "light"
          }
        }
      ]
    },
    {
      "cell_type": "markdown",
      "metadata": {
        "id": "kXZTqxNC38Vf"
      },
      "source": [
        "Agora, com o grau de importância dos atributos é possível notar que o padrão de pouca variação de explicabilidade dos atributos vista na aplicação do `PCA` continua. Então, serão utilizadas os atributos que correspondem à até 70% de importância."
      ]
    },
    {
      "cell_type": "code",
      "metadata": {
        "colab": {
          "base_uri": "https://localhost:8080/"
        },
        "id": "cvxKr8Nd4v0V",
        "outputId": "5c24182a-e951-4aee-cc9e-1385d40a9c8c"
      },
      "source": [
        "selected_indices = [idx for idx, cumsum in zip(indices, np.cumsum(importances[indices])) if cumsum <= 0.7]\n",
        "selected_columns = X_train.columns[selected_indices].tolist()\n",
        "\n",
        "print('Atributos selecionados:', selected_columns)"
      ],
      "execution_count": null,
      "outputs": [
        {
          "output_type": "stream",
          "name": "stdout",
          "text": [
            "Atributos selecionados: ['q22', 'q23', 'q56', 'q5', 'q4', 'q49', 'q62', 'q52', 'q61', 'q57', 'q63', 'q58', 'q1', 'q54', 'q34', 'q3', 'q28', 'q50', 'q15', 'q55', 'q51', 'q32', 'q68', 'q2', 'q36', 'q10']\n"
          ]
        }
      ]
    },
    {
      "cell_type": "markdown",
      "metadata": {
        "id": "mmaUYSut8DyE"
      },
      "source": [
        "Com a lista de atributos selecionados é possível finaliar a transformação do dataset."
      ]
    },
    {
      "cell_type": "code",
      "metadata": {
        "id": "ppWbHh8i8R0n"
      },
      "source": [
        "X_train = X_train[selected_columns]\n",
        "X_test = X_test[selected_columns]"
      ],
      "execution_count": null,
      "outputs": []
    },
    {
      "cell_type": "markdown",
      "metadata": {
        "id": "HZS3AYpaD_AN"
      },
      "source": [
        "## Treinamento e avaliação dos modelos\n",
        "\n",
        "O dicionário abaixo será utilizado para agrupar os modelos treinados e suas respectivas métricas e a variável `n_folds` corresponde a quantidade de paginações que serão executadas no treinamento e teste de cada modelo."
      ]
    },
    {
      "cell_type": "code",
      "metadata": {
        "id": "2_2MF8hUEEOE"
      },
      "source": [
        "trained_models = {}\n",
        "n_folds = 5"
      ],
      "execution_count": null,
      "outputs": []
    },
    {
      "cell_type": "markdown",
      "metadata": {
        "id": "_CjIfkqeHENS"
      },
      "source": [
        "---\n",
        "\n",
        "### Treinamento KNN"
      ]
    },
    {
      "cell_type": "code",
      "metadata": {
        "colab": {
          "base_uri": "https://localhost:8080/"
        },
        "id": "FzHKgFb8HYy3",
        "outputId": "68482605-22a1-4551-ae77-187f4fb4b82c"
      },
      "source": [
        "knn = KNeighborsClassifier()\n",
        "\n",
        "knn_grid = {\n",
        "    'n_neighbors': [3, 5, 7],\n",
        "    'weights': ['uniform', 'distance']\n",
        "}\n",
        "\n",
        "knn_gscv = GridSearchCV(estimator=knn,\n",
        "                        param_grid=knn_grid,\n",
        "                        scoring='f1',\n",
        "                        cv=n_folds)\n",
        "\n",
        "knn_gscv.fit(X_train, y_train)\n",
        "\n",
        "trained_models['KNN'] = {'score': knn_gscv.best_score_,\n",
        "                         'estimator': knn_gscv}\n",
        "print(f\"KNN F1 Score: {trained_models['KNN']['score']}\")"
      ],
      "execution_count": null,
      "outputs": [
        {
          "output_type": "stream",
          "name": "stdout",
          "text": [
            "KNN F1 Score: 0.40966786840297936\n"
          ]
        }
      ]
    },
    {
      "cell_type": "markdown",
      "metadata": {
        "id": "d6l6mqe5RPM5"
      },
      "source": [
        "\n",
        "\n",
        "---\n",
        "\n",
        "### Treinamento SVM"
      ]
    },
    {
      "cell_type": "code",
      "metadata": {
        "colab": {
          "base_uri": "https://localhost:8080/"
        },
        "id": "rZXuw1ZtM_lT",
        "outputId": "187a2cfb-84ed-4cae-a923-d41ea13d8931"
      },
      "source": [
        "svc = SVC()\n",
        "\n",
        "svm_grid = {\n",
        "    'C': [.5, 1.0, 1.5],\n",
        "    'kernel': ['poly', 'rbf']\n",
        "}\n",
        "\n",
        "svm_gscv = GridSearchCV(estimator=svc,\n",
        "                        param_grid=svm_grid,\n",
        "                        scoring='f1',\n",
        "                        cv=n_folds)\n",
        "\n",
        "svm_gscv.fit(X_train, y_train)\n",
        "\n",
        "trained_models['SVM'] = {'score': svm_gscv.best_score_,\n",
        "                         'estimator': svm_gscv}\n",
        "print(f\"SVM F1 Score: {trained_models['SVM']['score']}\")"
      ],
      "execution_count": null,
      "outputs": [
        {
          "output_type": "stream",
          "name": "stdout",
          "text": [
            "SVM F1 Score: 0.44033881271641473\n"
          ]
        }
      ]
    },
    {
      "cell_type": "markdown",
      "metadata": {
        "id": "xQlJDvoyRKqj"
      },
      "source": [
        "\n",
        "\n",
        "---\n",
        "\n",
        "### Treinamento XGBoost"
      ]
    },
    {
      "cell_type": "code",
      "metadata": {
        "colab": {
          "base_uri": "https://localhost:8080/"
        },
        "id": "UtKF6ENDRUqE",
        "outputId": "8815b2d5-4213-424c-c0c4-1727ad523d1f"
      },
      "source": [
        "xgb = XGBClassifier()\n",
        "\n",
        "xgb_grid = {\n",
        "    'objective':['binary:logistic', 'binary:hinge'],\n",
        "    'learning_rate': [.05, .3],\n",
        "    'max_depth': [5, 10],\n",
        "    'subsample': [0.5, 1],\n",
        "    'colsample_bytree': [0.5, 1],\n",
        "    'n_estimators': [100, 500],\n",
        "    'use_label_encoder': [False],\n",
        "    'verbosity': [0]\n",
        "}\n",
        "\n",
        "xgb_gscv = GridSearchCV(estimator=xgb,\n",
        "                        param_grid=xgb_grid,\n",
        "                        scoring='f1',\n",
        "                        cv=n_folds) \n",
        "\n",
        "xgb_gscv.fit(X_train, y_train)\n",
        "\n",
        "trained_models['XGB'] = {'score': xgb_gscv.best_score_,\n",
        "                         'estimator': xgb_gscv}\n",
        "print(f\"XGB F1 Score: {trained_models['XGB']['score']}\")"
      ],
      "execution_count": null,
      "outputs": [
        {
          "output_type": "stream",
          "name": "stdout",
          "text": [
            "XGB F1 Score: 0.5066599292159832\n"
          ]
        }
      ]
    },
    {
      "cell_type": "markdown",
      "metadata": {
        "id": "647V1NyeXOBK"
      },
      "source": [
        "\n",
        "\n",
        "---\n",
        "\n",
        "### Avaliação"
      ]
    },
    {
      "cell_type": "code",
      "metadata": {
        "id": "secOfgauXQw4",
        "colab": {
          "base_uri": "https://localhost:8080/"
        },
        "outputId": "e999c528-e86b-47a2-d96f-2e4cb5500b21"
      },
      "source": [
        "for model in trained_models.keys():\n",
        "    estimator = trained_models[model]['estimator']\n",
        "    test_score = round(trained_models[model][\"score\"], 2)\n",
        "    y_pred = estimator.predict(X_test)\n",
        "    evaluation_score = round(f1_score(y_test, y_pred), 2)\n",
        "    print(f'{model}: Test: {test_score} - True: {evaluation_score}')"
      ],
      "execution_count": null,
      "outputs": [
        {
          "output_type": "stream",
          "name": "stdout",
          "text": [
            "KNN: Test: 0.41 - True: 0.41\n",
            "SVM: Test: 0.44 - True: 0.44\n",
            "XGB: Test: 0.51 - True: 0.5\n"
          ]
        }
      ]
    },
    {
      "cell_type": "markdown",
      "metadata": {
        "id": "Y-svzT-fkmU8"
      },
      "source": [
        "Como está sendo utilizado a métrica F1, o melhor resultado possível seria `1.0`, porém, com a célula acima, é possível notar que os modelos não obtiveram um resultado satisfatório."
      ]
    },
    {
      "cell_type": "markdown",
      "metadata": {
        "id": "ppimel9Cvc3G"
      },
      "source": [
        "\n",
        "## Conclusão\n",
        "Com o baixo desempenho dos modelos explicitado acima pode-se considerar duas possibilidades. Primeira, que os dados selecionados não foram bem trabalhados, ou seja, não foi realizada uma boa engenharia de atributos. E, segunda, os dados não possuem uma boa separabilidade, isso é, as classes não estão bem definidas, dificultado assim a decibilidade dos modelos treinados.\n",
        "\n",
        "Infelizmente não houve tempo de testar mais modelos e outras técnicas de transformação dos dados, porém, não vejo muitas esperanças. Atribuo o fato do baixo desempenho dos modelos à baixa separabilidade das classes utilizadas. Pois, como visto na seção de redução de dimensionalidade, não haviam atributos explicativos o suficiente para optar pela técnica PCA."
      ]
    }
  ]
}